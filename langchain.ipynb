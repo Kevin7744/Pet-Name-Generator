{
 "cells": [
  {
   "cell_type": "markdown",
   "metadata": {},
   "source": [
    "# Langchain Framework Description\n",
    "Its open-source framework for building AI applications on LLM focused on composition and modularity. You can also integrate it to perfom certain  custom actions with an other external API's.\n",
    "<br>\n",
    "It is currently offered in Python and TypeScript.\n",
    "<br>\n",
    "The main concepts to understand are:\n",
    "* Components\n",
    "<br> \n",
    "    * LLm Wrappers-Here there  are LLM wrappers that allow us to connect to a LLM like GPT-4 or hugging face.\n",
    "    * Prompt Templates- This allows us to avoid hardcoding text which is the input to the LLM's\n",
    "    * Indexes that allow us to extract relevant information for the LLMs\n",
    "<br>\n",
    "* Chains - Chains allow us to assemble different components that solve a specific task and build an entire application.\n",
    "<br>\n",
    "* Agents - Agents allow LLM's to interact with environment and other external API's.\n",
    "<br>\n",
    "<br>\n",
    "\n",
    "## Requirements\n",
    "* Python version 3.8 or higher and pip *python package manager*\n",
    "* OpenAI Account for API Key"
   ]
  },
  {
   "cell_type": "markdown",
   "metadata": {},
   "source": [
    "### Set up the Virtual Environment"
   ]
  },
  {
   "cell_type": "code",
   "execution_count": null,
   "metadata": {},
   "outputs": [],
   "source": [
    "# Set up virtual env.\n",
    "!python -m venv .venv\n",
    "\n",
    "# Activate the virtual environment\n",
    "!.venv/Scripts/Activate.ps1"
   ]
  }
 ],
 "metadata": {
  "language_info": {
   "name": "python"
  }
 },
 "nbformat": 4,
 "nbformat_minor": 2
}
